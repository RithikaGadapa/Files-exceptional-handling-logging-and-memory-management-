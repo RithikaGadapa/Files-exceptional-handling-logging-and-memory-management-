{
  "nbformat": 4,
  "nbformat_minor": 0,
  "metadata": {
    "colab": {
      "provenance": []
    },
    "kernelspec": {
      "name": "python3",
      "display_name": "Python 3"
    },
    "language_info": {
      "name": "python"
    }
  },
  "cells": [
    {
      "cell_type": "markdown",
      "source": [
        "# **Theory questions**"
      ],
      "metadata": {
        "id": "eDjTIbege0ex"
      }
    },
    {
      "cell_type": "markdown",
      "source": [
        "### Q1. What is the difference between interpreted and compiled languages?\n",
        "\n",
        "Ans: Compiled languages (like C, C++) are converted into machine code before execution. Interpreted languages (like Python, JavaScript) are executed line by line by an interpreter.\n",
        "\n",
        "\n",
        "\n",
        "\n",
        "\n",
        "\n",
        "\n",
        "\n",
        "\n"
      ],
      "metadata": {
        "id": "Y0TmmO1Ie0br"
      }
    },
    {
      "cell_type": "markdown",
      "source": [
        "### Q2. What is exception handling in python?\n",
        "\n",
        "Ans: It is a mechanism to catch and manage runtime errors using try, except, else, and finally blocks."
      ],
      "metadata": {
        "id": "aqcn4xg5e0Zr"
      }
    },
    {
      "cell_type": "markdown",
      "source": [
        "### Q3. What is the purpose of finally block in exception handling?\n",
        "\n",
        "Ans: The finally block is used to execute code regardless of whether an exception occurred or not—commonly for cleanup actions."
      ],
      "metadata": {
        "id": "cvC53DIBe0Wy"
      }
    },
    {
      "cell_type": "markdown",
      "source": [
        "### Q4. What is logging in python?\n",
        "\n",
        "Ans: Logging is the process of recording messages during program execution for debugging, info, or error tracking using the logging module."
      ],
      "metadata": {
        "id": "mKk80lGie0UD"
      }
    },
    {
      "cell_type": "markdown",
      "source": [
        "### Q5. What is the significance of __ _dell_ _ _ method in python?\n",
        "\n",
        "Ans: __ _del__ _ is a destructor method called when an object is about to be destroyed to free resources."
      ],
      "metadata": {
        "id": "1gTodVy8e0Rp"
      }
    },
    {
      "cell_type": "markdown",
      "source": [
        "### Q6. What is the difference between import and from ... import in python?\n",
        "\n",
        "Ans: **import module:** imports the whole module.\n",
        "\n",
        "**from module import item:** imports a specific item from the module."
      ],
      "metadata": {
        "id": "-duIYAn4e0PG"
      }
    },
    {
      "cell_type": "markdown",
      "source": [
        "### Q7: How can you handle multiple exception in python?\n",
        "\n",
        "Ans: By using multiple except blocks or group them in a tuple:\n",
        "\n",
        "    try:\n",
        "        ...\n",
        "    except (TypeError, ValueError) as e:\n",
        "        ...\n"
      ],
      "metadata": {
        "id": "RlLJCFFZe0FI"
      }
    },
    {
      "cell_type": "markdown",
      "source": [
        "### Q8: What is the purpose of with statement when handling files in python?\n",
        "\n",
        "Ans: It ensures proper resource management and automatically closes the file after its suite finishes."
      ],
      "metadata": {
        "id": "j_5kbOpQe0A4"
      }
    },
    {
      "cell_type": "markdown",
      "source": [
        "### Q9: What is the difference between multithreading and multiprocessing?\n",
        "\n",
        "Ans:\n",
        "\n",
        "Multithreading: Multiple threads within a process; shares memory.\n",
        "\n",
        "Multiprocessing: Multiple processes; each has separate memory."
      ],
      "metadata": {
        "id": "bEbjhq6Yez9l"
      }
    },
    {
      "cell_type": "markdown",
      "source": [
        "### Q10. What are the advantages of using logging in a programm?\n",
        "\n",
        "Ans:\n",
        "\n",
        "Tracks events\n",
        "\n",
        "Aids in debugging\n",
        "\n",
        "Monitors application status\n",
        "\n",
        "Logs info without stopping program"
      ],
      "metadata": {
        "id": "yh-C80QHmoas"
      }
    },
    {
      "cell_type": "markdown",
      "source": [
        "### Q11. What is memory management in python?\n",
        "\n",
        "Ans:  It refers to how Python manages memory allocation and deallocation automatically using reference counting and garbage collection."
      ],
      "metadata": {
        "id": "zzQIsvdnmoX9"
      }
    },
    {
      "cell_type": "markdown",
      "source": [
        "### Q12. What are the basic steps involved in exception handling in python?\n",
        "\n",
        "Ans:  \n",
        "\n",
        "Try the code block.\n",
        "\n",
        "Catch exception with except.\n",
        "\n",
        "Use else (optional).\n",
        "\n",
        "Use finally (optional)."
      ],
      "metadata": {
        "id": "UHCZOPrtmoVF"
      }
    },
    {
      "cell_type": "markdown",
      "source": [
        "### Q13. Why is memory management important in Python?\n",
        "Ans: It helps prevent memory leaks, optimizes performance, and ensures resources are freed when no longer used."
      ],
      "metadata": {
        "id": "oiIwyuPJmoSt"
      }
    },
    {
      "cell_type": "markdown",
      "source": [
        "### Q14. What is the role of try and except in exception handling?\n",
        "Ans:\n",
        "\n",
        "try: Wraps risky code.\n",
        "\n",
        "except: Catches and handles exceptions that occur in try."
      ],
      "metadata": {
        "id": "Z8VARIX0moNQ"
      }
    },
    {
      "cell_type": "markdown",
      "source": [
        "### Q15. How does Python's garbage collection system work?\n",
        "Ans: Python uses reference counting and a cyclic garbage collector to reclaim memory of unused objects."
      ],
      "metadata": {
        "id": "8ihVow98moKq"
      }
    },
    {
      "cell_type": "markdown",
      "source": [
        "### Q16. What is the purpose of the else block in exception handling?\n",
        "Ans: The else block runs if no exceptions were raised in the try block."
      ],
      "metadata": {
        "id": "VrPNR04TmoIS"
      }
    },
    {
      "cell_type": "markdown",
      "source": [
        "### Q17. What are the common logging levels in Python?\n",
        "Ans:\n",
        "\n",
        "DEBUG\n",
        "\n",
        "INFO\n",
        "\n",
        "WARNING\n",
        "\n",
        "ERROR\n",
        "\n",
        "CRITICAL"
      ],
      "metadata": {
        "id": "sghKls6XmoDR"
      }
    },
    {
      "cell_type": "markdown",
      "source": [
        "### Q18. What is the difference between os.fork() and multiprocessing in Python?\n",
        "Ans: os.fork(): Unix-based, creates a new process by duplicating the current one.\n",
        "\n",
        "multiprocessing: Cross-platform, higher-level API for process creation."
      ],
      "metadata": {
        "id": "RJvBymxCmn_s"
      }
    },
    {
      "cell_type": "markdown",
      "source": [
        "### Q19. What is the importance of closing a file in Python?\n",
        "Ans: To free system resources and avoid data corruption or memory leaks."
      ],
      "metadata": {
        "id": "44vP1PEMmn8h"
      }
    },
    {
      "cell_type": "markdown",
      "source": [
        "### Q20. What is the difference between file.read() and file.readline() in Python?\n",
        "Ans:\n",
        "\n",
        "read(): Reads entire file or specified bytes.\n",
        "\n",
        "readline(): Reads one line at a time."
      ],
      "metadata": {
        "id": "HLowgYKumn6E"
      }
    },
    {
      "cell_type": "markdown",
      "source": [
        "### Q21. What is the logging module in Python used for?\n",
        "Ans: To log messages (info, errors, debug) for tracking program execution."
      ],
      "metadata": {
        "id": "smJzMlSomn3c"
      }
    },
    {
      "cell_type": "markdown",
      "source": [
        "### Q22. What is the os module in Python used for in file handling?\n",
        "Ans: Provides functions to interact with the operating system, like file paths, directory navigation, file creation/deletion."
      ],
      "metadata": {
        "id": "j2KTiQcbmn1G"
      }
    },
    {
      "cell_type": "markdown",
      "source": [
        "### Q23. What are the challenges associated with memory management in Python?\n",
        "Ans:\n",
        "\n",
        "Cyclic references\n",
        "\n",
        "High memory usage in large programs\n",
        "\n",
        "Manual resource cleanup"
      ],
      "metadata": {
        "id": "tUIVT0_Omnyp"
      }
    },
    {
      "cell_type": "markdown",
      "source": [
        "### Q24. How do you raise an exception manually in Python?\n",
        "Ans: Using the raise keyword:\n",
        "\n",
        "    raise ValueError(\"Invalid input\")\n"
      ],
      "metadata": {
        "id": "1S7Imt6imnwc"
      }
    },
    {
      "cell_type": "markdown",
      "source": [
        "### Q25. Why is it important to use multithreading in certain applications?\n",
        "\n",
        "Ans: To perform tasks concurrently, especially when waiting for I/O operations, improving responsiveness."
      ],
      "metadata": {
        "id": "_mtXpcVAmnsu"
      }
    },
    {
      "cell_type": "markdown",
      "source": [
        "# **Practical questions**"
      ],
      "metadata": {
        "id": "oB7zd8_TmnpL"
      }
    },
    {
      "cell_type": "markdown",
      "source": [
        "### Q1. How can you open a file for writing in Python and write a string to it?"
      ],
      "metadata": {
        "id": "WwG6qc1ez_Hn"
      }
    },
    {
      "cell_type": "code",
      "source": [
        "with open(\"example.txt\", \"w\") as file:\n",
        "    file.write(\"Hello, PW Skills!\")"
      ],
      "metadata": {
        "id": "vsapI28AzkE7"
      },
      "execution_count": null,
      "outputs": []
    },
    {
      "cell_type": "markdown",
      "source": [
        "### Q2. Write a Python program to read the contents of a file and print each line."
      ],
      "metadata": {
        "id": "5kyfzbMU0NKl"
      }
    },
    {
      "cell_type": "code",
      "source": [
        "with open(\"filename.txt\", \"r\") as file:\n",
        "    for line in file:\n",
        "        print(line, end='')"
      ],
      "metadata": {
        "id": "Hzj3tQRNzkCW"
      },
      "execution_count": null,
      "outputs": []
    },
    {
      "cell_type": "markdown",
      "source": [
        "### Q3. How would you handle a case where the file doesn't exist while trying to open it for reading?"
      ],
      "metadata": {
        "id": "noltdeNr0Nyi"
      }
    },
    {
      "cell_type": "code",
      "source": [
        "try:\n",
        "    with open(\"nonexistent.txt\", \"r\") as file:\n",
        "        print(file.read())\n",
        "except FileNotFoundError:\n",
        "    print(\"File not found.\")"
      ],
      "metadata": {
        "id": "TW_KVwoYzj_0"
      },
      "execution_count": null,
      "outputs": []
    },
    {
      "cell_type": "markdown",
      "source": [
        "### Q4. Write a Python script that reads from one file and writes its content to another file."
      ],
      "metadata": {
        "id": "_WxFBweV1CAZ"
      }
    },
    {
      "cell_type": "code",
      "source": [
        "with open(\"source.txt\", \"r\") as src, open(\"destination.txt\", \"w\") as dest:\n",
        "    for line in src:\n",
        "        dest.write(line)\n"
      ],
      "metadata": {
        "id": "pc5q31DIzj9G"
      },
      "execution_count": null,
      "outputs": []
    },
    {
      "cell_type": "markdown",
      "source": [
        "### Q5. How would you catch and handle division by zero error in Python?\n"
      ],
      "metadata": {
        "id": "x520j7T_1MAK"
      }
    },
    {
      "cell_type": "code",
      "source": [
        "try:\n",
        "    result = 10 / 0\n",
        "except ZeroDivisionError:\n",
        "    print(\"Cannot divide by zero.\")\n"
      ],
      "metadata": {
        "id": "L3v3TTEwzj6f"
      },
      "execution_count": null,
      "outputs": []
    },
    {
      "cell_type": "markdown",
      "source": [
        "### Q6. Write a Python program that logs an error message to a log file when a division by zero exception occurs."
      ],
      "metadata": {
        "id": "LlkonrE01Mbw"
      }
    },
    {
      "cell_type": "code",
      "source": [
        "import logging\n",
        "\n",
        "logging.basicConfig(filename=\"error.log\", level=logging.ERROR)\n",
        "\n",
        "try:\n",
        "    result = 10 / 0\n",
        "except ZeroDivisionError as e:\n",
        "    logging.error(f\"Error occurred: {e}\")\n"
      ],
      "metadata": {
        "id": "vjBpH_t41qYd"
      },
      "execution_count": null,
      "outputs": []
    },
    {
      "cell_type": "markdown",
      "source": [
        "### Q7. How do you log information at different levels (INFO, ERROR, WARNING) in Python using the logging module?"
      ],
      "metadata": {
        "id": "TjhIVe8B1NXd"
      }
    },
    {
      "cell_type": "code",
      "source": [
        "import logging\n",
        "\n",
        "logging.basicConfig(level=logging.DEBUG)\n",
        "\n",
        "logging.info(\"This is an info message\")\n",
        "logging.warning(\"This is a warning\")\n",
        "logging.error(\"This is an error\")\n"
      ],
      "metadata": {
        "id": "oRbglZbb15Qf"
      },
      "execution_count": null,
      "outputs": []
    },
    {
      "cell_type": "markdown",
      "source": [
        "### Q8. Write a program to handle a file opening error using exception handling?"
      ],
      "metadata": {
        "id": "H3-lV3yU1Nzv"
      }
    },
    {
      "cell_type": "code",
      "source": [
        "try:\n",
        "    file = open(\"nonexistent.txt\", \"r\")\n",
        "except FileNotFoundError:\n",
        "    print(\"Error: File could not be opened.\")\n"
      ],
      "metadata": {
        "id": "F76uTHKBzj3I"
      },
      "execution_count": null,
      "outputs": []
    },
    {
      "cell_type": "markdown",
      "source": [
        "### Q9. How can you read a file line by line and store its content in a list in Python?"
      ],
      "metadata": {
        "id": "uxYGVG5R2MF-"
      }
    },
    {
      "cell_type": "code",
      "source": [
        "with open(\"example.txt\", \"r\") as file:\n",
        "    lines = [line.strip() for line in file]\n"
      ],
      "metadata": {
        "id": "YsWodHVX2SK9"
      },
      "execution_count": null,
      "outputs": []
    },
    {
      "cell_type": "markdown",
      "source": [
        "### Q10. How can you append data to an existing file in Python?"
      ],
      "metadata": {
        "id": "2nFCd-zZ2Vd7"
      }
    },
    {
      "cell_type": "code",
      "source": [
        "with open(\"example.txt\", \"a\") as file:\n",
        "    file.write(\"\\nNew line appended.\")\n"
      ],
      "metadata": {
        "id": "bi5_ROa2zj0_"
      },
      "execution_count": null,
      "outputs": []
    },
    {
      "cell_type": "markdown",
      "source": [
        "### Q11. Write a Python program that uses a try-except block to handle an error when attempting to access a dictionary key that doesn't exist."
      ],
      "metadata": {
        "id": "BwyDCx8P2d0e"
      }
    },
    {
      "cell_type": "code",
      "source": [
        "data = {\"name\": \"Rithika\"}\n",
        "try:\n",
        "    print(data[\"age\"])\n",
        "except KeyError:\n",
        "    print(\"Key not found.\")\n"
      ],
      "metadata": {
        "id": "LDM2-W0TzjyV"
      },
      "execution_count": null,
      "outputs": []
    },
    {
      "cell_type": "markdown",
      "source": [
        "### Q12. Write a program that demonstrates using multiple except blocks to handle different types of exceptions."
      ],
      "metadata": {
        "id": "nH_6d2ya2m6-"
      }
    },
    {
      "cell_type": "code",
      "source": [
        "try:\n",
        "    x = int(\"abc\")\n",
        "    y = 10 / 0\n",
        "except ValueError:\n",
        "    print(\"Value error occurred.\")\n",
        "except ZeroDivisionError:\n",
        "    print(\"Division by zero.\")\n"
      ],
      "metadata": {
        "id": "HJNARk4qzjvD"
      },
      "execution_count": null,
      "outputs": []
    },
    {
      "cell_type": "markdown",
      "source": [
        "### Q13. How would you check if a file exists before attempting to read it in Python?"
      ],
      "metadata": {
        "id": "MafuwNo-3f2-"
      }
    },
    {
      "cell_type": "code",
      "source": [
        "import os\n",
        "\n",
        "if os.path.exists(\"example.txt\"):\n",
        "    with open(\"example.txt\", \"r\") as file:\n",
        "        print(file.read())\n",
        "else:\n",
        "    print(\"File does not exist.\")\n"
      ],
      "metadata": {
        "id": "e0vPNJWCzjrO"
      },
      "execution_count": null,
      "outputs": []
    },
    {
      "cell_type": "markdown",
      "source": [
        "### Q14. Write a program that uses the logging module to log both informational and error messages."
      ],
      "metadata": {
        "id": "wrlAt-Df3nZ_"
      }
    },
    {
      "cell_type": "code",
      "source": [
        "import logging\n",
        "\n",
        "logging.basicConfig(filename=\"app.log\", level=logging.DEBUG)\n",
        "\n",
        "logging.info(\"Program started.\")\n",
        "try:\n",
        "    10 / 0\n",
        "except ZeroDivisionError as e:\n",
        "    logging.error(f\"Error: {e}\")\n"
      ],
      "metadata": {
        "id": "EqMDMEpr3oSe"
      },
      "execution_count": null,
      "outputs": []
    },
    {
      "cell_type": "markdown",
      "source": [
        "### Q15. Write a Python program that prints the content of a file and handles the case when the file is empty"
      ],
      "metadata": {
        "id": "HZNEq5GL36rb"
      }
    },
    {
      "cell_type": "code",
      "source": [
        "with open(\"example.txt\", \"r\") as file:\n",
        "    content = file.read()\n",
        "    if not content:\n",
        "        print(\"File is empty.\")\n",
        "    else:\n",
        "        print(content)\n"
      ],
      "metadata": {
        "id": "GXfJMddW4ASK"
      },
      "execution_count": null,
      "outputs": []
    },
    {
      "cell_type": "markdown",
      "source": [
        "### Q16. Demonstrate how to use memory profiling to check the memory usage of a small program."
      ],
      "metadata": {
        "id": "6lfuN_2h36kf"
      }
    },
    {
      "cell_type": "code",
      "source": [
        "from memory_profiler import profile\n",
        "\n",
        "@profile\n",
        "def test():\n",
        "    a = [i for i in range(100000)]\n",
        "    return sum(a)\n",
        "\n",
        "test()\n"
      ],
      "metadata": {
        "id": "QRYGAoL64L8s"
      },
      "execution_count": null,
      "outputs": []
    },
    {
      "cell_type": "markdown",
      "source": [
        "### Q17. Write a Python program to create and write a list of numbers to a file, one number per line"
      ],
      "metadata": {
        "id": "g8ToRvaF36el"
      }
    },
    {
      "cell_type": "code",
      "source": [
        "numbers = [1, 2, 3, 4, 5]\n",
        "\n",
        "with open(\"numbers.txt\", \"w\") as file:\n",
        "    for num in numbers:\n",
        "        file.write(f\"{num}\\n\")\n",
        "numbers = [1, 2, 3, 4, 5]\n",
        "\n",
        "with open(\"numbers.txt\", \"w\") as file:\n",
        "    for num in numbers:\n",
        "        file.write(f\"{num}\\n\")\n"
      ],
      "metadata": {
        "id": "haNx3Rz-4WLH"
      },
      "execution_count": null,
      "outputs": []
    },
    {
      "cell_type": "markdown",
      "source": [
        "### Q18. How would you implement a basic logging setup that logs to a file with rotation after 1MB?"
      ],
      "metadata": {
        "id": "OpmEWz9136Yf"
      }
    },
    {
      "cell_type": "code",
      "source": [
        "import logging\n",
        "from logging.handlers import RotatingFileHandler\n",
        "\n",
        "handler = RotatingFileHandler(\"rotating.log\", maxBytes=1048576, backupCount=3)\n",
        "logging.basicConfig(handlers=[handler], level=logging.INFO)\n",
        "logging.info(\"This is a rotating log entry.\")\n"
      ],
      "metadata": {
        "id": "k8f_9Amq4fuI"
      },
      "execution_count": null,
      "outputs": []
    },
    {
      "cell_type": "markdown",
      "source": [
        "### Q19. Write a program that handles both IndexError and KeyError using a try-except block."
      ],
      "metadata": {
        "id": "2wZB1c2r36Sc"
      }
    },
    {
      "cell_type": "code",
      "source": [
        "try:\n",
        "    lst = [1, 2, 3]\n",
        "    print(lst[5])\n",
        "    d = {\"a\": 1}\n",
        "    print(d[\"b\"])\n",
        "except IndexError:\n",
        "    print(\"IndexError occurred.\")\n",
        "except KeyError:\n",
        "    print(\"KeyError occurred.\")\n"
      ],
      "metadata": {
        "id": "tGmb4gRw4niJ"
      },
      "execution_count": null,
      "outputs": []
    },
    {
      "cell_type": "markdown",
      "source": [
        "### Q20. How would you open a file and read its contents using a context manager in Python?"
      ],
      "metadata": {
        "id": "RfzEQ6Tv35LM"
      }
    },
    {
      "cell_type": "code",
      "source": [
        "with open(\"example.txt\", \"r\") as file:\n",
        "    print(file.read())\n"
      ],
      "metadata": {
        "id": "8xXoPjpq4wta"
      },
      "execution_count": null,
      "outputs": []
    },
    {
      "cell_type": "markdown",
      "source": [
        "### Q21. Write a Python program that reads a file and prints the number of occurrences of a specific word."
      ],
      "metadata": {
        "id": "jzjlMzUn35E5"
      }
    },
    {
      "cell_type": "code",
      "source": [
        "word_to_find = \"python\"\n",
        "count = 0\n",
        "\n",
        "with open(\"example.txt\", \"r\") as file:\n",
        "    for line in file:\n",
        "        count += line.lower().count(word_to_find.lower())\n",
        "\n",
        "print(f\"'{word_to_find}' occurred {count} times.\")\n"
      ],
      "metadata": {
        "id": "qkDIcHUB44kM"
      },
      "execution_count": null,
      "outputs": []
    },
    {
      "cell_type": "markdown",
      "source": [
        "### Q22. How can you check if a file is empty before attempting to read its contents?"
      ],
      "metadata": {
        "id": "FKuhyP_t34_B"
      }
    },
    {
      "cell_type": "code",
      "source": [
        "import os\n",
        "\n",
        "if os.path.getsize(\"example.txt\") == 0:\n",
        "    print(\"File is empty.\")\n",
        "else:\n",
        "    with open(\"example.txt\", \"r\") as file:\n",
        "        print(file.read())\n"
      ],
      "metadata": {
        "id": "fZZZ6fQf5Ks8"
      },
      "execution_count": null,
      "outputs": []
    },
    {
      "cell_type": "markdown",
      "source": [
        "### Q23. Write a Python program that writes to a log file when an error occurs during file handling."
      ],
      "metadata": {
        "id": "F4KnQtty34vF"
      }
    },
    {
      "cell_type": "code",
      "source": [
        "import logging\n",
        "\n",
        "logging.basicConfig(filename=\"file_error.log\", level=logging.ERROR)\n",
        "\n",
        "try:\n",
        "    with open(\"nonexistent.txt\", \"r\") as file:\n",
        "        content = file.read()\n",
        "except Exception as e:\n",
        "    logging.error(f\"File handling error: {e}\")\n"
      ],
      "metadata": {
        "id": "VnLHuApo5T_j"
      },
      "execution_count": null,
      "outputs": []
    }
  ]
}